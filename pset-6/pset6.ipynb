{
 "cells": [
  {
   "cell_type": "code",
   "execution_count": 1,
   "metadata": {},
   "outputs": [],
   "source": [
    "import numpy as np\n",
    "import matplotlib.pyplot as plt\n",
    "import pandas as pd\n"
   ]
  },
  {
   "cell_type": "markdown",
   "metadata": {},
   "source": [
    "### Problem 1"
   ]
  },
  {
   "cell_type": "markdown",
   "metadata": {},
   "source": [
    "Exercise 4.1"
   ]
  },
  {
   "cell_type": "code",
   "execution_count": 1,
   "metadata": {},
   "outputs": [
    {
     "name": "stdout",
     "output_type": "stream",
     "text": [
      "[ 0.   2.5  5.   7.5 10.   8.6  7.2  5.8  4.4  3.   0. ]\n"
     ]
    }
   ],
   "source": [
    "P = np.array([\n",
    "    [1, 0, 0, 0, 0, 0, 0, 0, 0, 0, 0],\n",
    "    [0.5, 0, 0.5, 0, 0, 0, 0, 0, 0, 0, 0],\n",
    "    [0, 0.5, 0, 0.5, 0, 0, 0, 0, 0, 0, 0],\n",
    "    [0, 0, 0.5, 0, 0.5, 0, 0, 0, 0, 0, 0],\n",
    "    [0, 0, 0, 0.5, 0, 0.5, 0, 0, 0, 0, 0],\n",
    "    [0, 0, 0, 0, 0.5, 0, 0.5, 0, 0, 0, 0],\n",
    "    [0, 0, 0, 0, 0, 0.5, 0, 0.5, 0, 0, 0],\n",
    "    [0, 0, 0, 0, 0, 0, 0.5, 0, 0.5, 0, 0],\n",
    "    [0, 0, 0, 0, 0, 0, 0, 0.5, 0, 0.5, 0],\n",
    "    [0, 0, 0, 0, 0, 0, 0, 0, 0.5, 0, 0.5],\n",
    "    [0, 0, 0, 0, 0, 0, 0, 0, 0, 0, 1]\n",
    "  ])\n",
    "\n",
    "u = np.array([0, 10, 10, 10, 10, 10, 10, 10, 10, 10,  0])\n",
    "f = np.array([0,  2,  4,  6, 10,  7,  6,  4,  3,  3,  0])\n",
    "\n",
    "for i in range(100):\n",
    "  u = np.matmul(P, u)\n",
    "  for j in range(len(u)):\n",
    "    u[j] = max(u[j], f[j])\n",
    "print(u)"
   ]
  },
  {
   "cell_type": "markdown",
   "metadata": {},
   "source": [
    "### Problem 2"
   ]
  },
  {
   "cell_type": "markdown",
   "metadata": {},
   "source": [
    "Exercise 4.3 (a)"
   ]
  },
  {
   "cell_type": "code",
   "execution_count": 2,
   "metadata": {},
   "outputs": [
    {
     "name": "stdout",
     "output_type": "stream",
     "text": [
      "[ 0.    2.    4.    6.25 10.    7.25  6.    4.    3.    3.    0.  ]\n"
     ]
    }
   ],
   "source": [
    "u = np.array([0, 10, 10, 10, 10, 10, 10, 10, 10, 10,  0])\n",
    "f = np.array([0,  2,  4,  6, 10,  7,  6,  4,  3,  3,  0])\n",
    "cost = 0.75\n",
    "\n",
    "for i in range(100):\n",
    "  u = np.matmul(P, u)\n",
    "  for j in range(len(u)):\n",
    "    u[j] = max(u[j] - cost, f[j])\n",
    "print(u)"
   ]
  },
  {
   "cell_type": "markdown",
   "metadata": {},
   "source": [
    "Exercise 4.3 (b)"
   ]
  },
  {
   "cell_type": "code",
   "execution_count": 3,
   "metadata": {},
   "outputs": [
    {
     "name": "stdout",
     "output_type": "stream",
     "text": [
      "[ 0.          2.          4.14043584  6.71670702 10.          7.6\n",
      "  6.          4.55447942  3.58837772  3.          0.        ]\n"
     ]
    }
   ],
   "source": [
    "u = np.array([0, 10, 10, 10, 10, 10, 10, 10, 10, 10,  0])\n",
    "f = np.array([0,  2,  4,  6, 10,  7,  6,  4,  3,  3,  0])\n",
    "discount_rate = 0.95\n",
    "\n",
    "for i in range(100):\n",
    "  u = np.matmul(P, u)\n",
    "  for j in range(len(u)):\n",
    "    u[j] = max(u[j] * discount_rate, f[j])\n",
    "print(u)"
   ]
  },
  {
   "cell_type": "markdown",
   "metadata": {},
   "source": [
    "Exercise 4.3 (c) why does solution has different answer??"
   ]
  },
  {
   "cell_type": "code",
   "execution_count": 4,
   "metadata": {},
   "outputs": [
    {
     "name": "stdout",
     "output_type": "stream",
     "text": [
      "[ 0.  2.  4.  6. 10.  7.  6.  4.  3.  3.  0.]\n"
     ]
    }
   ],
   "source": [
    "u = np.array([0, 10, 10, 10, 10, 10, 10, 10, 10, 10,  0])\n",
    "f = np.array([0,  2,  4,  6, 10,  7,  6,  4,  3,  3,  0])\n",
    "\n",
    "for i in range(100):\n",
    "  u = np.matmul(P, u)\n",
    "  for j in range(len(u)):\n",
    "    u[j] = max(u[j] * discount_rate - cost, f[j])\n",
    "print(u)"
   ]
  },
  {
   "cell_type": "markdown",
   "metadata": {},
   "source": [
    "### Problem 5"
   ]
  },
  {
   "cell_type": "markdown",
   "metadata": {},
   "source": [
    "4.8 Consider a simple \"Wheel of Fortune\" game. A wheel is divided into 12 equal-sized wedges. Eleven of the edges are marked with the numbers 100, 200, . . . , 1100 denoting an amount of money won fi the wheel lands on those numbers. The twelfth wedge is marked \"bankrupt.\" A player can spin as many times as he or she wants. Each time the wheel lands on a numbered wedge, the player receives that much money which is added to h i sher previous winnings. However, fi the wheel ever lands on the \"bankrupt\" wedge, the player loses all of h i sh e r money that has been won up to that point. The player may quit at any time, and take all the money he or she has won (assuming the \"bankrupt\" wedge has not come up).\n",
    "Assuming that the goal is to maximize one's expected winnings in this game, devise an optimal strategy for playing this game and compute one's expected winnings. You may wish to try a computer simulation first.\n"
   ]
  },
  {
   "cell_type": "code",
   "execution_count": 22,
   "metadata": {},
   "outputs": [
    {
     "data": {
      "text/html": [
       "<div>\n",
       "<style scoped>\n",
       "    .dataframe tbody tr th:only-of-type {\n",
       "        vertical-align: middle;\n",
       "    }\n",
       "\n",
       "    .dataframe tbody tr th {\n",
       "        vertical-align: top;\n",
       "    }\n",
       "\n",
       "    .dataframe thead th {\n",
       "        text-align: right;\n",
       "    }\n",
       "</style>\n",
       "<table border=\"1\" class=\"dataframe\">\n",
       "  <thead>\n",
       "    <tr style=\"text-align: right;\">\n",
       "      <th></th>\n",
       "      <th>mean</th>\n",
       "    </tr>\n",
       "  </thead>\n",
       "  <tbody>\n",
       "    <tr>\n",
       "      <th>1</th>\n",
       "      <td>556.5</td>\n",
       "    </tr>\n",
       "    <tr>\n",
       "      <th>2</th>\n",
       "      <td>1056.7</td>\n",
       "    </tr>\n",
       "    <tr>\n",
       "      <th>3</th>\n",
       "      <td>1506.1</td>\n",
       "    </tr>\n",
       "    <tr>\n",
       "      <th>4</th>\n",
       "      <td>1928.2</td>\n",
       "    </tr>\n",
       "    <tr>\n",
       "      <th>5</th>\n",
       "      <td>2320.1</td>\n",
       "    </tr>\n",
       "    <tr>\n",
       "      <th>...</th>\n",
       "      <td>...</td>\n",
       "    </tr>\n",
       "    <tr>\n",
       "      <th>195</th>\n",
       "      <td>6619.1</td>\n",
       "    </tr>\n",
       "    <tr>\n",
       "      <th>196</th>\n",
       "      <td>6492.1</td>\n",
       "    </tr>\n",
       "    <tr>\n",
       "      <th>197</th>\n",
       "      <td>6287.8</td>\n",
       "    </tr>\n",
       "    <tr>\n",
       "      <th>198</th>\n",
       "      <td>6284.8</td>\n",
       "    </tr>\n",
       "    <tr>\n",
       "      <th>199</th>\n",
       "      <td>6794.4</td>\n",
       "    </tr>\n",
       "  </tbody>\n",
       "</table>\n",
       "<p>199 rows × 1 columns</p>\n",
       "</div>"
      ],
      "text/plain": [
       "       mean\n",
       "1     556.5\n",
       "2    1056.7\n",
       "3    1506.1\n",
       "4    1928.2\n",
       "5    2320.1\n",
       "..      ...\n",
       "195  6619.1\n",
       "196  6492.1\n",
       "197  6287.8\n",
       "198  6284.8\n",
       "199  6794.4\n",
       "\n",
       "[199 rows x 1 columns]"
      ]
     },
     "execution_count": 22,
     "metadata": {},
     "output_type": "execute_result"
    }
   ],
   "source": [
    "wedges = np.array([100, 200, 300, 400, 500, 600, 700, 800, 900, 1000, 1100, -1])\n",
    "\n",
    "raw_data = {}\n",
    "# number of planned spins\n",
    "for i in range(1, 200):\n",
    "  # number of trials\n",
    "  raw_data[i] = []\n",
    "  for j in range(1000):\n",
    "    \n",
    "    curr_sum = 0\n",
    "    for k in range(i):\n",
    "      spin = np.random.choice(wedges)\n",
    "\n",
    "      if spin == -1:\n",
    "        break\n",
    "      curr_sum += spin\n",
    "\n",
    "    raw_data[i].append(curr_sum)\n",
    "\n",
    "df = pd.DataFrame(raw_data)\n",
    "df_transposed = df.T\n",
    "df_transposed['mean'] = df_transposed.mean(axis=1)\n",
    "df_mean = df_transposed[['mean']]\n",
    "df_mean"
   ]
  },
  {
   "cell_type": "code",
   "execution_count": 23,
   "metadata": {},
   "outputs": [
    {
     "data": {
      "text/plain": [
       "<Axes: >"
      ]
     },
     "execution_count": 23,
     "metadata": {},
     "output_type": "execute_result"
    },
    {
     "data": {
      "image/png": "[encoded data removed]",
      "text/plain": [
       "<Figure size 640x480 with 1 Axes>"
      ]
     },
     "metadata": {},
     "output_type": "display_data"
    }
   ],
   "source": [
    "df_mean.plot()"
   ]
  },
  {
   "cell_type": "markdown",
   "metadata": {},
   "source": [
    "Intuitively, the number of spins that maximize expected value is the point of inflection where the second standard derivation first turns negative. The point of inflections looks to be in the first ~ 15 spins."
   ]
  },
  {
   "cell_type": "code",
   "execution_count": 38,
   "metadata": {},
   "outputs": [
    {
     "data": {
      "text/html": [
       "<div>\n",
       "<style scoped>\n",
       "    .dataframe tbody tr th:only-of-type {\n",
       "        vertical-align: middle;\n",
       "    }\n",
       "\n",
       "    .dataframe tbody tr th {\n",
       "        vertical-align: top;\n",
       "    }\n",
       "\n",
       "    .dataframe thead th {\n",
       "        text-align: right;\n",
       "    }\n",
       "</style>\n",
       "<table border=\"1\" class=\"dataframe\">\n",
       "  <thead>\n",
       "    <tr style=\"text-align: right;\">\n",
       "      <th></th>\n",
       "      <th>mean</th>\n",
       "    </tr>\n",
       "  </thead>\n",
       "  <tbody>\n",
       "    <tr>\n",
       "      <th>1</th>\n",
       "      <td>553.50</td>\n",
       "    </tr>\n",
       "    <tr>\n",
       "      <th>2</th>\n",
       "      <td>1057.65</td>\n",
       "    </tr>\n",
       "    <tr>\n",
       "      <th>3</th>\n",
       "      <td>1522.75</td>\n",
       "    </tr>\n",
       "    <tr>\n",
       "      <th>4</th>\n",
       "      <td>1936.23</td>\n",
       "    </tr>\n",
       "    <tr>\n",
       "      <th>5</th>\n",
       "      <td>2306.08</td>\n",
       "    </tr>\n",
       "    <tr>\n",
       "      <th>6</th>\n",
       "      <td>2675.38</td>\n",
       "    </tr>\n",
       "    <tr>\n",
       "      <th>7</th>\n",
       "      <td>3016.72</td>\n",
       "    </tr>\n",
       "    <tr>\n",
       "      <th>8</th>\n",
       "      <td>3329.31</td>\n",
       "    </tr>\n",
       "    <tr>\n",
       "      <th>9</th>\n",
       "      <td>3570.86</td>\n",
       "    </tr>\n",
       "    <tr>\n",
       "      <th>10</th>\n",
       "      <td>3829.87</td>\n",
       "    </tr>\n",
       "    <tr>\n",
       "      <th>11</th>\n",
       "      <td>4111.37</td>\n",
       "    </tr>\n",
       "    <tr>\n",
       "      <th>12</th>\n",
       "      <td>4277.65</td>\n",
       "    </tr>\n",
       "    <tr>\n",
       "      <th>13</th>\n",
       "      <td>4496.63</td>\n",
       "    </tr>\n",
       "    <tr>\n",
       "      <th>14</th>\n",
       "      <td>4628.95</td>\n",
       "    </tr>\n",
       "    <tr>\n",
       "      <th>15</th>\n",
       "      <td>4709.68</td>\n",
       "    </tr>\n",
       "    <tr>\n",
       "      <th>16</th>\n",
       "      <td>4914.62</td>\n",
       "    </tr>\n",
       "    <tr>\n",
       "      <th>17</th>\n",
       "      <td>5081.28</td>\n",
       "    </tr>\n",
       "    <tr>\n",
       "      <th>18</th>\n",
       "      <td>5160.50</td>\n",
       "    </tr>\n",
       "    <tr>\n",
       "      <th>19</th>\n",
       "      <td>5313.07</td>\n",
       "    </tr>\n",
       "    <tr>\n",
       "      <th>20</th>\n",
       "      <td>5424.61</td>\n",
       "    </tr>\n",
       "    <tr>\n",
       "      <th>21</th>\n",
       "      <td>5515.41</td>\n",
       "    </tr>\n",
       "    <tr>\n",
       "      <th>22</th>\n",
       "      <td>5676.79</td>\n",
       "    </tr>\n",
       "    <tr>\n",
       "      <th>23</th>\n",
       "      <td>5736.43</td>\n",
       "    </tr>\n",
       "    <tr>\n",
       "      <th>24</th>\n",
       "      <td>5754.16</td>\n",
       "    </tr>\n",
       "  </tbody>\n",
       "</table>\n",
       "</div>"
      ],
      "text/plain": [
       "       mean\n",
       "1    553.50\n",
       "2   1057.65\n",
       "3   1522.75\n",
       "4   1936.23\n",
       "5   2306.08\n",
       "6   2675.38\n",
       "7   3016.72\n",
       "8   3329.31\n",
       "9   3570.86\n",
       "10  3829.87\n",
       "11  4111.37\n",
       "12  4277.65\n",
       "13  4496.63\n",
       "14  4628.95\n",
       "15  4709.68\n",
       "16  4914.62\n",
       "17  5081.28\n",
       "18  5160.50\n",
       "19  5313.07\n",
       "20  5424.61\n",
       "21  5515.41\n",
       "22  5676.79\n",
       "23  5736.43\n",
       "24  5754.16"
      ]
     },
     "execution_count": 38,
     "metadata": {},
     "output_type": "execute_result"
    }
   ],
   "source": [
    "raw_data = {}\n",
    "# number of planned spins\n",
    "for i in range(1, 25):\n",
    "  # number of trials\n",
    "  raw_data[i] = []\n",
    "  for j in range(10000):\n",
    "    \n",
    "    curr_sum = 0\n",
    "    for k in range(i):\n",
    "      spin = np.random.choice(wedges)\n",
    "\n",
    "      if spin == -1:\n",
    "        break\n",
    "      curr_sum += spin\n",
    "\n",
    "    raw_data[i].append(curr_sum)\n",
    "\n",
    "df = pd.DataFrame(raw_data)\n",
    "df_transposed = df.T\n",
    "df_transposed['mean'] = df_transposed.mean(axis=1)\n",
    "df_mean = df_transposed[['mean']]\n",
    "df_mean"
   ]
  },
  {
   "cell_type": "code",
   "execution_count": 39,
   "metadata": {},
   "outputs": [
    {
     "data": {
      "text/plain": [
       "<Axes: >"
      ]
     },
     "execution_count": 39,
     "metadata": {},
     "output_type": "execute_result"
    },
    {
     "data": {
      "image/png": "[encoded data removed]",
      "text/plain": [
       "<Figure size 640x480 with 1 Axes>"
      ]
     },
     "metadata": {},
     "output_type": "display_data"
    }
   ],
   "source": [
    "df_mean.plot()"
   ]
  },
  {
   "cell_type": "code",
   "execution_count": 52,
   "metadata": {},
   "outputs": [
    {
     "data": {
      "text/html": [
       "<div>\n",
       "<style scoped>\n",
       "    .dataframe tbody tr th:only-of-type {\n",
       "        vertical-align: middle;\n",
       "    }\n",
       "\n",
       "    .dataframe tbody tr th {\n",
       "        vertical-align: top;\n",
       "    }\n",
       "\n",
       "    .dataframe thead th {\n",
       "        text-align: right;\n",
       "    }\n",
       "</style>\n",
       "<table border=\"1\" class=\"dataframe\">\n",
       "  <thead>\n",
       "    <tr style=\"text-align: right;\">\n",
       "      <th></th>\n",
       "      <th>Thresholds</th>\n",
       "      <th>Average Winnings</th>\n",
       "    </tr>\n",
       "  </thead>\n",
       "  <tbody>\n",
       "    <tr>\n",
       "      <th>0</th>\n",
       "      <td>4000</td>\n",
       "      <td>2332.92</td>\n",
       "    </tr>\n",
       "    <tr>\n",
       "      <th>1</th>\n",
       "      <td>4250</td>\n",
       "      <td>2413.31</td>\n",
       "    </tr>\n",
       "    <tr>\n",
       "      <th>2</th>\n",
       "      <td>4500</td>\n",
       "      <td>2413.53</td>\n",
       "    </tr>\n",
       "    <tr>\n",
       "      <th>3</th>\n",
       "      <td>4750</td>\n",
       "      <td>2469.45</td>\n",
       "    </tr>\n",
       "    <tr>\n",
       "      <th>4</th>\n",
       "      <td>5000</td>\n",
       "      <td>2522.07</td>\n",
       "    </tr>\n",
       "    <tr>\n",
       "      <th>5</th>\n",
       "      <td>5250</td>\n",
       "      <td>2497.30</td>\n",
       "    </tr>\n",
       "    <tr>\n",
       "      <th>6</th>\n",
       "      <td>5500</td>\n",
       "      <td>2540.93</td>\n",
       "    </tr>\n",
       "    <tr>\n",
       "      <th>7</th>\n",
       "      <td>5750</td>\n",
       "      <td>2534.95</td>\n",
       "    </tr>\n",
       "    <tr>\n",
       "      <th>8</th>\n",
       "      <td>6000</td>\n",
       "      <td>2564.50</td>\n",
       "    </tr>\n",
       "    <tr>\n",
       "      <th>9</th>\n",
       "      <td>6250</td>\n",
       "      <td>2553.22</td>\n",
       "    </tr>\n",
       "    <tr>\n",
       "      <th>10</th>\n",
       "      <td>6500</td>\n",
       "      <td>2574.87</td>\n",
       "    </tr>\n",
       "    <tr>\n",
       "      <th>11</th>\n",
       "      <td>6750</td>\n",
       "      <td>2509.39</td>\n",
       "    </tr>\n",
       "    <tr>\n",
       "      <th>12</th>\n",
       "      <td>7000</td>\n",
       "      <td>2550.43</td>\n",
       "    </tr>\n",
       "    <tr>\n",
       "      <th>13</th>\n",
       "      <td>7250</td>\n",
       "      <td>2506.76</td>\n",
       "    </tr>\n",
       "    <tr>\n",
       "      <th>14</th>\n",
       "      <td>7500</td>\n",
       "      <td>2565.80</td>\n",
       "    </tr>\n",
       "    <tr>\n",
       "      <th>15</th>\n",
       "      <td>7750</td>\n",
       "      <td>2481.00</td>\n",
       "    </tr>\n",
       "  </tbody>\n",
       "</table>\n",
       "</div>"
      ],
      "text/plain": [
       "    Thresholds  Average Winnings\n",
       "0         4000           2332.92\n",
       "1         4250           2413.31\n",
       "2         4500           2413.53\n",
       "3         4750           2469.45\n",
       "4         5000           2522.07\n",
       "5         5250           2497.30\n",
       "6         5500           2540.93\n",
       "7         5750           2534.95\n",
       "8         6000           2564.50\n",
       "9         6250           2553.22\n",
       "10        6500           2574.87\n",
       "11        6750           2509.39\n",
       "12        7000           2550.43\n",
       "13        7250           2506.76\n",
       "14        7500           2565.80\n",
       "15        7750           2481.00"
      ]
     },
     "execution_count": 52,
     "metadata": {},
     "output_type": "execute_result"
    },
    {
     "data": {
      "image/png": "[encoded data removed]",
      "text/plain": [
       "<Figure size 640x480 with 1 Axes>"
      ]
     },
     "metadata": {},
     "output_type": "display_data"
    }
   ],
   "source": [
    "# Define the values on the wheel and the probability of hitting bankrupt\n",
    "values = np.arange(100, 1200, 100)\n",
    "bankrupt = 'bankrupt'\n",
    "wheel = np.append(values, bankrupt)\n",
    "probabilities = np.full_like(wheel, 1/len(wheel), dtype=np.float64)\n",
    "\n",
    "# Function to simulate a single game\n",
    "def simulate_game(threshold):\n",
    "    total_winnings = 0\n",
    "    while True:\n",
    "        spin = np.random.choice(wheel, p=probabilities)\n",
    "        if spin == bankrupt:\n",
    "            return 0  # Player loses everything on bankrupt\n",
    "        else:\n",
    "            total_winnings += int(spin)\n",
    "            # The decision to continue will be based on some strategy\n",
    "            # For now, we stop if the total winnings exceed a certain threshold\n",
    "            # This threshold can be adjusted to optimize the strategy\n",
    "            if total_winnings >= threshold:  # Example threshold\n",
    "                break\n",
    "    return total_winnings\n",
    "\n",
    "# Run the simulation multiple times to approximate the expected winnings\n",
    "num_simulations = 10000\n",
    "\n",
    "thresholds = []\n",
    "averages = []\n",
    "for i in range(4000, 8000, 250):\n",
    "  results = [simulate_game(i) for _ in range(num_simulations)]\n",
    "  average_winnings = np.mean(results)\n",
    "  thresholds.append(i)\n",
    "  averages.append(average_winnings)\n",
    "\n",
    "# Calculate the average winnings\n",
    "df = pd.DataFrame({\n",
    "    'Thresholds': thresholds,\n",
    "    'Average Winnings': averages\n",
    "  })\n",
    "\n",
    "df.plot(x='Thresholds')\n",
    "df\n",
    "\n"
   ]
  },
  {
   "cell_type": "markdown",
   "metadata": {},
   "source": [
    "Let X be current winnings. Next X ~ expected gains after round with X is 1/12 (100 + 200 + ... + 1100) - 1/12 * X. X is non-positive after 6600, thus, we should stop if X >= 6600. The ideal threshold is 6600. Our simulated data agrees with this."
   ]
  },
  {
   "cell_type": "code",
   "execution_count": 57,
   "metadata": {},
   "outputs": [
    {
     "data": {
      "text/plain": [
       "2564.0224"
      ]
     },
     "execution_count": 57,
     "metadata": {},
     "output_type": "execute_result"
    }
   ],
   "source": [
    "values = np.arange(100, 1200, 100)\n",
    "bankrupt = 'bankrupt'\n",
    "wheel = np.append(values, bankrupt)\n",
    "probabilities = np.full_like(wheel, 1/len(wheel), dtype=np.float64)\n",
    "\n",
    "def simulate_game(threshold):\n",
    "    total_winnings = 0\n",
    "    while True:\n",
    "        spin = np.random.choice(wheel, p=probabilities)\n",
    "        if spin == bankrupt:\n",
    "            return 0  # Player loses everything on bankrupt\n",
    "        else:\n",
    "            total_winnings += int(spin)\n",
    "            if total_winnings >= threshold:  # Example threshold\n",
    "                break\n",
    "    return total_winnings\n",
    "\n",
    "num_simulations = 1000000\n",
    "\n",
    "results = [simulate_game(6600) for _ in range(num_simulations)]\n",
    "average_winnings = np.mean(results)\n",
    "\n",
    "average_winnings"
   ]
  },
  {
   "cell_type": "markdown",
   "metadata": {},
   "source": [
    "### Problem 7"
   ]
  },
  {
   "cell_type": "markdown",
   "metadata": {},
   "source": [
    "Exercise 4.10 (a)"
   ]
  },
  {
   "cell_type": "code",
   "execution_count": 12,
   "metadata": {},
   "outputs": [
    {
     "name": "stdout",
     "output_type": "stream",
     "text": [
      "{5: 5, 6: 0, 1: 3.718316, 2: 3.920064, 3: 4.166472, 4: 4.50034}\n"
     ]
    }
   ],
   "source": [
    "dice = np.array([1, 2, 3, 4, 5, 6])\n",
    "# v(5) = 5, v(6) = 0\n",
    "\n",
    "optimal_returns = {5: 5, 6: 0}\n",
    "\n",
    "def simulation(start):\n",
    "  roll = start\n",
    "  sequence = []\n",
    "\n",
    "  while roll != 6:\n",
    "    # print(sequence, roll)\n",
    "    sequence.append(roll)\n",
    "    # sequence.append(roll)\n",
    "    roll = np.random.choice(dice)\n",
    "  return np.max(sequence)\n",
    "\n",
    "for i in range(1, 5):\n",
    "  returns = []\n",
    "  for j in range(250000):\n",
    "    returns.append(simulation(i))\n",
    "    # returns.append(simulation(i))\n",
    "  optimal_returns[i] = np.mean(returns)\n",
    "\n",
    "# print(optimal_returns)\n",
    "# print(simulation(1))\n",
    "print(optimal_returns)"
   ]
  },
  {
   "cell_type": "markdown",
   "metadata": {},
   "source": [
    "Exercise 4.10 (b)"
   ]
  }
 ],
 "metadata": {
  "kernelspec": {
   "display_name": "Python 3",
   "language": "python",
   "name": "python3"
  },
  "language_info": {
   "codemirror_mode": {
    "name": "ipython",
    "version": 3
   },
   "file_extension": ".py",
   "mimetype": "text/x-python",
   "name": "python",
   "nbconvert_exporter": "python",
   "pygments_lexer": "ipython3",
   "version": "3.8.10"
  }
 },
 "nbformat": 4,
 "nbformat_minor": 2
}
