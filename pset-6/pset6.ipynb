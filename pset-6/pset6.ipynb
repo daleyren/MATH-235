{
 "cells": [
  {
   "cell_type": "markdown",
   "metadata": {},
   "source": [
    "### Problem 1"
   ]
  },
  {
   "cell_type": "markdown",
   "metadata": {},
   "source": [
    "Exercise 4.1"
   ]
  },
  {
   "cell_type": "code",
   "execution_count": 1,
   "metadata": {},
   "outputs": [
    {
     "name": "stdout",
     "output_type": "stream",
     "text": [
      "[ 0.   2.5  5.   7.5 10.   8.6  7.2  5.8  4.4  3.   0. ]\n"
     ]
    }
   ],
   "source": [
    "import numpy as np\n",
    "P = np.array([\n",
    "    [1, 0, 0, 0, 0, 0, 0, 0, 0, 0, 0],\n",
    "    [0.5, 0, 0.5, 0, 0, 0, 0, 0, 0, 0, 0],\n",
    "    [0, 0.5, 0, 0.5, 0, 0, 0, 0, 0, 0, 0],\n",
    "    [0, 0, 0.5, 0, 0.5, 0, 0, 0, 0, 0, 0],\n",
    "    [0, 0, 0, 0.5, 0, 0.5, 0, 0, 0, 0, 0],\n",
    "    [0, 0, 0, 0, 0.5, 0, 0.5, 0, 0, 0, 0],\n",
    "    [0, 0, 0, 0, 0, 0.5, 0, 0.5, 0, 0, 0],\n",
    "    [0, 0, 0, 0, 0, 0, 0.5, 0, 0.5, 0, 0],\n",
    "    [0, 0, 0, 0, 0, 0, 0, 0.5, 0, 0.5, 0],\n",
    "    [0, 0, 0, 0, 0, 0, 0, 0, 0.5, 0, 0.5],\n",
    "    [0, 0, 0, 0, 0, 0, 0, 0, 0, 0, 1]\n",
    "  ])\n",
    "\n",
    "u = np.array([0, 10, 10, 10, 10, 10, 10, 10, 10, 10,  0])\n",
    "f = np.array([0,  2,  4,  6, 10,  7,  6,  4,  3,  3,  0])\n",
    "\n",
    "for i in range(100):\n",
    "  u = np.matmul(P, u)\n",
    "  for j in range(len(u)):\n",
    "    u[j] = max(u[j], f[j])\n",
    "print(u)"
   ]
  },
  {
   "cell_type": "markdown",
   "metadata": {},
   "source": [
    "### Problem 2"
   ]
  },
  {
   "cell_type": "markdown",
   "metadata": {},
   "source": [
    "Exercise 4.3 (a)"
   ]
  },
  {
   "cell_type": "code",
   "execution_count": 2,
   "metadata": {},
   "outputs": [
    {
     "name": "stdout",
     "output_type": "stream",
     "text": [
      "[ 0.    2.    4.    6.25 10.    7.25  6.    4.    3.    3.    0.  ]\n"
     ]
    }
   ],
   "source": [
    "u = np.array([0, 10, 10, 10, 10, 10, 10, 10, 10, 10,  0])\n",
    "f = np.array([0,  2,  4,  6, 10,  7,  6,  4,  3,  3,  0])\n",
    "cost = 0.75\n",
    "\n",
    "for i in range(100):\n",
    "  u = np.matmul(P, u)\n",
    "  for j in range(len(u)):\n",
    "    u[j] = max(u[j] - cost, f[j])\n",
    "print(u)"
   ]
  },
  {
   "cell_type": "markdown",
   "metadata": {},
   "source": [
    "Exercise 4.3 (b)"
   ]
  },
  {
   "cell_type": "code",
   "execution_count": 3,
   "metadata": {},
   "outputs": [
    {
     "name": "stdout",
     "output_type": "stream",
     "text": [
      "[ 0.          2.          4.14043584  6.71670702 10.          7.6\n",
      "  6.          4.55447942  3.58837772  3.          0.        ]\n"
     ]
    }
   ],
   "source": [
    "u = np.array([0, 10, 10, 10, 10, 10, 10, 10, 10, 10,  0])\n",
    "f = np.array([0,  2,  4,  6, 10,  7,  6,  4,  3,  3,  0])\n",
    "discount_rate = 0.95\n",
    "\n",
    "for i in range(100):\n",
    "  u = np.matmul(P, u)\n",
    "  for j in range(len(u)):\n",
    "    u[j] = max(u[j] * discount_rate, f[j])\n",
    "print(u)"
   ]
  },
  {
   "cell_type": "markdown",
   "metadata": {},
   "source": [
    "Exercise 4.3 (c) why does solution has different answer??"
   ]
  },
  {
   "cell_type": "code",
   "execution_count": 4,
   "metadata": {},
   "outputs": [
    {
     "name": "stdout",
     "output_type": "stream",
     "text": [
      "[ 0.  2.  4.  6. 10.  7.  6.  4.  3.  3.  0.]\n"
     ]
    }
   ],
   "source": [
    "u = np.array([0, 10, 10, 10, 10, 10, 10, 10, 10, 10,  0])\n",
    "f = np.array([0,  2,  4,  6, 10,  7,  6,  4,  3,  3,  0])\n",
    "\n",
    "for i in range(100):\n",
    "  u = np.matmul(P, u)\n",
    "  for j in range(len(u)):\n",
    "    u[j] = max(u[j] * discount_rate - cost, f[j])\n",
    "print(u)"
   ]
  }
 ],
 "metadata": {
  "kernelspec": {
   "display_name": "Python 3",
   "language": "python",
   "name": "python3"
  },
  "language_info": {
   "codemirror_mode": {
    "name": "ipython",
    "version": 3
   },
   "file_extension": ".py",
   "mimetype": "text/x-python",
   "name": "python",
   "nbconvert_exporter": "python",
   "pygments_lexer": "ipython3",
   "version": "3.8.10"
  }
 },
 "nbformat": 4,
 "nbformat_minor": 2
}
